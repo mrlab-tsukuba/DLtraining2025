{
 "cells": [
  {
   "cell_type": "markdown",
   "metadata": {},
   "source": [
    "# 実践課題：画像コントラスト変換\n",
    "1. 課題概要\n",
    "画像コントラスト変換とは、入力画像の輝度やコントラストを調整し、視覚的な特徴を強調または変更するタスクです。この課題では以下を目標とします：\n",
    "\n",
    "- コントラストを強調した画像を生成する。\n",
    "- モデルを構築し、指定されたコントラスト値に応じて画像を変換する。"
   ]
  },
  {
   "cell_type": "markdown",
   "metadata": {},
   "source": [
    "### ステップ1: データセットの準備\n",
    "任意の画像データセット（CIFAR10など）を利用し、コントラストを変更します。以下は、torchvision.transforms を利用した例です。"
   ]
  },
  {
   "cell_type": "code",
   "execution_count": 1,
   "metadata": {},
   "outputs": [
    {
     "name": "stdout",
     "output_type": "stream",
     "text": [
      "Downloading https://www.cs.toronto.edu/~kriz/cifar-10-python.tar.gz to ./data\\cifar-10-python.tar.gz\n"
     ]
    },
    {
     "name": "stderr",
     "output_type": "stream",
     "text": [
      "100.0%\n"
     ]
    },
    {
     "name": "stdout",
     "output_type": "stream",
     "text": [
      "Extracting ./data\\cifar-10-python.tar.gz to ./data\n"
     ]
    },
    {
     "data": {
      "image/png": "[encoded data removed]",
      "text/plain": [
       "<Figure size 640x480 with 1 Axes>"
      ]
     },
     "metadata": {},
     "output_type": "display_data"
    }
   ],
   "source": [
    "import torch\n",
    "from torchvision import datasets, transforms\n",
    "import matplotlib.pyplot as plt\n",
    "\n",
    "# データ変換（Tensor化）\n",
    "transform = transforms.Compose([\n",
    "    transforms.ToTensor()\n",
    "])\n",
    "\n",
    "# CIFAR10データセットのロード\n",
    "dataset = datasets.CIFAR10(root='./data', train=True, transform=transform, download=True)\n",
    "\n",
    "# サンプル画像の可視化\n",
    "def show_image(img_tensor):\n",
    "    img = img_tensor.permute(1, 2, 0)  # チャンネル順を変換\n",
    "    plt.imshow(img)\n",
    "    plt.axis('off')\n",
    "    plt.show()\n",
    "\n",
    "# サンプル画像\n",
    "sample_img, _ = dataset[0]\n",
    "show_image(sample_img)\n"
   ]
  },
  {
   "cell_type": "markdown",
   "metadata": {},
   "source": [
    "### ステップ2: コントラスト変更関数\n",
    "以下は、画像のコントラストを変更する関数の例です。"
   ]
  },
  {
   "cell_type": "code",
   "execution_count": 2,
   "metadata": {},
   "outputs": [
    {
     "data": {
      "image/png": "[encoded data removed]",
      "text/plain": [
       "<Figure size 1000x500 with 1 Axes>"
      ]
     },
     "metadata": {},
     "output_type": "display_data"
    },
    {
     "data": {
      "image/png": "[encoded data removed]",
      "text/plain": [
       "<Figure size 640x480 with 1 Axes>"
      ]
     },
     "metadata": {},
     "output_type": "display_data"
    }
   ],
   "source": [
    "from torchvision.transforms.functional import adjust_contrast\n",
    "\n",
    "# コントラスト変更\n",
    "contrast_factor = 2.0  # コントラストの強さ\n",
    "adjusted_img = adjust_contrast(sample_img, contrast_factor)\n",
    "\n",
    "# 元画像と変換後の画像を比較\n",
    "plt.figure(figsize=(10, 5))\n",
    "plt.subplot(1, 2, 1)\n",
    "plt.title(\"Original Image\")\n",
    "show_image(sample_img)\n",
    "\n",
    "plt.subplot(1, 2, 2)\n",
    "plt.title(f\"Contrast Adjusted (Factor={contrast_factor})\")\n",
    "show_image(adjusted_img)\n"
   ]
  },
  {
   "cell_type": "markdown",
   "metadata": {},
   "source": [
    "### ステップ3: モデルの構築\n",
    "畳み込みニューラルネットワーク（CNN）を使用して、コントラスト変換を学習します。入力は元画像、出力はコントラストを調整した画像です。"
   ]
  },
  {
   "cell_type": "code",
   "execution_count": 3,
   "metadata": {},
   "outputs": [],
   "source": [
    "import torch.nn as nn\n",
    "\n",
    "class ContrastAdjustmentNet(nn.Module):\n",
    "    def __init__(self):\n",
    "        super(ContrastAdjustmentNet, self).__init__()\n",
    "        self.encoder = nn.Sequential(\n",
    "            nn.Conv2d(3, 64, kernel_size=3, stride=1, padding=1),\n",
    "            nn.ReLU(),\n",
    "            nn.MaxPool2d(kernel_size=2, stride=2),\n",
    "            nn.Conv2d(64, 128, kernel_size=3, stride=1, padding=1),\n",
    "            nn.ReLU()\n",
    "        )\n",
    "        self.decoder = nn.Sequential(\n",
    "            nn.ConvTranspose2d(128, 64, kernel_size=2, stride=2),\n",
    "            nn.ReLU(),\n",
    "            nn.ConvTranspose2d(64, 3, kernel_size=2, stride=2),\n",
    "            nn.Sigmoid()\n",
    "        )\n",
    "    \n",
    "    def forward(self, x):\n",
    "        x = self.encoder(x)\n",
    "        x = self.decoder(x)\n",
    "        return x\n",
    "\n",
    "model = ContrastAdjustmentNet()\n"
   ]
  },
  {
   "cell_type": "markdown",
   "metadata": {},
   "source": [
    "### ステップ4: トレーニング\n",
    "ノイズ付き画像を入力し、正解のコントラスト変換画像を出力するように学習します。"
   ]
  },
  {
   "cell_type": "code",
   "execution_count": 7,
   "metadata": {},
   "outputs": [
    {
     "name": "stdout",
     "output_type": "stream",
     "text": [
      "Files already downloaded and verified\n",
      "Epoch [1/5], Loss: 0.0071\n",
      "Epoch [2/5], Loss: 0.0078\n",
      "Epoch [3/5], Loss: 0.0052\n",
      "Epoch [4/5], Loss: 0.0057\n",
      "Epoch [5/5], Loss: 0.0055\n"
     ]
    }
   ],
   "source": [
    "import torch\n",
    "import torch.nn as nn\n",
    "import torch.optim as optim\n",
    "from torchvision import datasets, transforms\n",
    "from torchvision.transforms.functional import adjust_contrast\n",
    "\n",
    "# データ変換（Tensor化）\n",
    "transform = transforms.Compose([\n",
    "    transforms.ToTensor()\n",
    "])\n",
    "\n",
    "# CIFAR10データセットのロード\n",
    "dataset = datasets.CIFAR10(root='./data', train=True, transform=transform, download=True)\n",
    "\n",
    "# データローダーの準備\n",
    "train_loader = torch.utils.data.DataLoader(dataset, batch_size=32, shuffle=True)\n",
    "\n",
    "# モデル定義\n",
    "class ContrastAdjustmentNet(nn.Module):\n",
    "    def __init__(self):\n",
    "        super(ContrastAdjustmentNet, self).__init__()\n",
    "        self.encoder = nn.Sequential(\n",
    "            nn.Conv2d(3, 64, kernel_size=3, stride=2, padding=1),  # [3x32x32] -> [64x16x16]\n",
    "            nn.ReLU(),\n",
    "            nn.Conv2d(64, 128, kernel_size=3, stride=2, padding=1),  # [64x16x16] -> [128x8x8]\n",
    "            nn.ReLU()\n",
    "        )\n",
    "        self.decoder = nn.Sequential(\n",
    "            nn.ConvTranspose2d(128, 64, kernel_size=3, stride=2, padding=1, output_padding=1),  # [128x8x8] -> [64x16x16]\n",
    "            nn.ReLU(),\n",
    "            nn.ConvTranspose2d(64, 3, kernel_size=3, stride=2, padding=1, output_padding=1),  # [64x16x16] -> [3x32x32]\n",
    "            nn.Sigmoid()\n",
    "        )\n",
    "    \n",
    "    def forward(self, x):\n",
    "        x = self.encoder(x)\n",
    "        x = self.decoder(x)\n",
    "        return x\n",
    "\n",
    "model = ContrastAdjustmentNet()\n",
    "\n",
    "# 損失関数と最適化\n",
    "criterion = nn.MSELoss()\n",
    "optimizer = optim.Adam(model.parameters(), lr=0.001)\n",
    "\n",
    "# トレーニングループ\n",
    "num_epochs = 5\n",
    "contrast_factor = 2.0  # コントラストの変更係数\n",
    "\n",
    "for epoch in range(num_epochs):\n",
    "    for images, _ in train_loader:\n",
    "        # コントラスト変更後の画像を生成（ターゲット）\n",
    "        target_images = torch.stack([adjust_contrast(img, contrast_factor) for img in images], dim=0)\n",
    "\n",
    "        # モデルの出力\n",
    "        outputs = model(images)\n",
    "\n",
    "        # 出力サイズとターゲットサイズを確認\n",
    "        # print(f\"Output shape: {outputs.shape}, Target shape: {target_images.shape}\")\n",
    "\n",
    "        # 損失計算とバックプロパゲーション\n",
    "        loss = criterion(outputs, target_images)\n",
    "        optimizer.zero_grad()\n",
    "        loss.backward()\n",
    "        optimizer.step()\n",
    "    \n",
    "    print(f'Epoch [{epoch+1}/{num_epochs}], Loss: {loss.item():.4f}')\n"
   ]
  },
  {
   "cell_type": "markdown",
   "metadata": {},
   "source": [
    "### ステップ5: テスト\n",
    "学習したモデルで画像のコントラストを変更し、結果を可視化します。"
   ]
  },
  {
   "cell_type": "code",
   "execution_count": 8,
   "metadata": {},
   "outputs": [
    {
     "data": {
      "image/png": "[encoded data removed]",
      "text/plain": [
       "<Figure size 1500x500 with 1 Axes>"
      ]
     },
     "metadata": {},
     "output_type": "display_data"
    },
    {
     "data": {
      "image/png": "[encoded data removed]",
      "text/plain": [
       "<Figure size 640x480 with 1 Axes>"
      ]
     },
     "metadata": {},
     "output_type": "display_data"
    }
   ],
   "source": [
    "with torch.no_grad():\n",
    "    test_img, _ = dataset[10]\n",
    "    test_img = test_img.unsqueeze(0)  # バッチ次元を追加\n",
    "    adjusted_output = model(test_img)\n",
    "\n",
    "# 可視化\n",
    "plt.figure(figsize=(15, 5))\n",
    "plt.subplot(1, 2, 1)\n",
    "plt.title(\"Original Image\")\n",
    "show_image(test_img.squeeze())\n",
    "\n",
    "plt.subplot(1, 2, 2)\n",
    "plt.title(\"Contrast Adjusted by Model\")\n",
    "show_image(adjusted_output.squeeze())\n"
   ]
  },
  {
   "cell_type": "markdown",
   "metadata": {},
   "source": [
    "### 課題のポイント\n",
    "1. コントラスト係数の変化:\n",
    "- contrast_factor を変更して性能の違いを観察。\n",
    "2. モデルの改良:\n",
    "- 畳み込み層やプーリング層を増やす。\n",
    "- 損失関数を変更して違いを確認。\n",
    "3. その他の変換:\n",
    "- 明るさや彩度の調整も同時に学習させる。"
   ]
  },
  {
   "cell_type": "code",
   "execution_count": null,
   "metadata": {},
   "outputs": [],
   "source": []
  }
 ],
 "metadata": {
  "kernelspec": {
   "display_name": "py311",
   "language": "python",
   "name": "python3"
  },
  "language_info": {
   "codemirror_mode": {
    "name": "ipython",
    "version": 3
   },
   "file_extension": ".py",
   "mimetype": "text/x-python",
   "name": "python",
   "nbconvert_exporter": "python",
   "pygments_lexer": "ipython3",
   "version": "3.11.10"
  }
 },
 "nbformat": 4,
 "nbformat_minor": 2
}
