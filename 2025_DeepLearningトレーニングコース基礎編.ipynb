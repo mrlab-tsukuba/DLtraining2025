{
 "cells": [
  {
   "cell_type": "markdown",
   "metadata": {},
   "source": [
    "# 基礎編テキスト（PyTorchの基礎）"
   ]
  },
  {
   "cell_type": "markdown",
   "metadata": {},
   "source": [
    "## テキスト: Python基礎\n",
    "1. 変数とデータ型 Pythonではデータ型を明示的に指定せずに変数を定義できます。"
   ]
  },
  {
   "cell_type": "code",
   "execution_count": 1,
   "metadata": {},
   "outputs": [
    {
     "name": "stdout",
     "output_type": "stream",
     "text": [
      "10 3.14 Hello, PyTorch!\n"
     ]
    }
   ],
   "source": [
    "# 変数の定義\n",
    "x = 10\n",
    "y = 3.14\n",
    "text = \"Hello, PyTorch!\"\n",
    "\n",
    "print(x, y, text)  # 出力: 10 3.14 Hello, PyTorch!\n"
   ]
  },
  {
   "cell_type": "markdown",
   "metadata": {},
   "source": [
    "2. リストとループ リストは複数の値を保持でき、forループで処理できます。\n"
   ]
  },
  {
   "cell_type": "code",
   "execution_count": 2,
   "metadata": {},
   "outputs": [
    {
     "name": "stdout",
     "output_type": "stream",
     "text": [
      "1\n",
      "2\n",
      "3\n",
      "4\n",
      "5\n"
     ]
    }
   ],
   "source": [
    "# リスト\n",
    "numbers = [1, 2, 3, 4, 5]\n",
    "\n",
    "# forループ\n",
    "for num in numbers:\n",
    "    print(num)\n"
   ]
  },
  {
   "cell_type": "markdown",
   "metadata": {},
   "source": [
    "3. 関数の定義 関数を定義して繰り返し使えるコードを作ります。"
   ]
  },
  {
   "cell_type": "code",
   "execution_count": 3,
   "metadata": {},
   "outputs": [
    {
     "name": "stdout",
     "output_type": "stream",
     "text": [
      "8\n"
     ]
    }
   ],
   "source": [
    "# 関数の例\n",
    "def add(a, b):\n",
    "    return a + b\n",
    "\n",
    "result = add(5, 3)\n",
    "print(result)  # 出力: 8\n"
   ]
  },
  {
   "cell_type": "markdown",
   "metadata": {},
   "source": [
    "## テキスト: PyTorch基礎\n",
    "1. Tensorの作成と操作 PyTorchのTensorはNumPyの配列に似ています。"
   ]
  },
  {
   "cell_type": "code",
   "execution_count": 4,
   "metadata": {},
   "outputs": [
    {
     "name": "stdout",
     "output_type": "stream",
     "text": [
      "tensor([5., 7., 9.])\n"
     ]
    }
   ],
   "source": [
    "import torch\n",
    "\n",
    "# Tensorの作成\n",
    "x = torch.tensor([1.0, 2.0, 3.0])\n",
    "y = torch.tensor([4.0, 5.0, 6.0])\n",
    "\n",
    "# 演算\n",
    "z = x + y\n",
    "print(z)  # 出力: tensor([5., 7., 9.])\n"
   ]
  },
  {
   "cell_type": "markdown",
   "metadata": {},
   "source": [
    "2. 自動微分（autograd）の基本 PyTorchでは自動微分機能を使って勾配を計算できます。"
   ]
  },
  {
   "cell_type": "code",
   "execution_count": 5,
   "metadata": {},
   "outputs": [
    {
     "name": "stdout",
     "output_type": "stream",
     "text": [
      "tensor(7.)\n"
     ]
    }
   ],
   "source": [
    "# Tensorの定義（勾配を計算するために requires_grad=True）\n",
    "x = torch.tensor(2.0, requires_grad=True)\n",
    "\n",
    "# 計算\n",
    "y = x**2 + 3*x + 1\n",
    "\n",
    "# 勾配の計算\n",
    "y.backward()\n",
    "\n",
    "# xに対する微分値を表示\n",
    "print(x.grad)  # 出力: tensor(7.)\n"
   ]
  },
  {
   "cell_type": "markdown",
   "metadata": {},
   "source": [
    "# 基礎編例題\n",
    "### 例題1: Tensorの基本操作\n",
    "以下のコードを完成させてください：\n",
    "\n",
    "- Tensor a と b を作成します（値は [1, 2, 3] と [4, 5, 6]）。\n",
    "\n",
    "- それらの和と積を計算し、結果を表示してください。"
   ]
  },
  {
   "cell_type": "code",
   "execution_count": 6,
   "metadata": {},
   "outputs": [],
   "source": [
    "import torch\n",
    "\n",
    "# ここに Tensor を定義してください\n",
    "\n",
    "# 和の計算\n",
    "\n",
    "\n",
    "# 積の計算\n",
    "\n",
    "\n",
    "# 結果の表示\n"
   ]
  },
  {
   "cell_type": "markdown",
   "metadata": {},
   "source": [
    "期待される出力:\n",
    "\n",
    "tensor([5, 7, 9])\n",
    "\n",
    "tensor([4, 10, 18])"
   ]
  },
  {
   "cell_type": "markdown",
   "metadata": {},
   "source": [
    "### 例題2: 勾配計算\n",
    "以下の手順でコードを完成させてください：\n",
    "\n",
    "- Tensor x を作成（値は 3.0、requires_grad=True を設定）。\n",
    "\n",
    "- 関数 y = x**3 - 2*x を計算。\n",
    "\n",
    "- y の勾配を計算して表示。"
   ]
  },
  {
   "cell_type": "code",
   "execution_count": 7,
   "metadata": {},
   "outputs": [],
   "source": [
    "import torch\n",
    "\n",
    "# ここに Tensor を定義してください\n",
    "\n",
    "# 関数の計算\n",
    "\n",
    "\n",
    "# 勾配の計算\n",
    "\n",
    "\n",
    "# 勾配の出力\n"
   ]
  },
  {
   "cell_type": "markdown",
   "metadata": {},
   "source": [
    "期待される出力:\n",
    "\n",
    "tensor(25.)"
   ]
  },
  {
   "cell_type": "code",
   "execution_count": null,
   "metadata": {},
   "outputs": [],
   "source": []
  }
 ],
 "metadata": {
  "kernelspec": {
   "display_name": "py311",
   "language": "python",
   "name": "python3"
  },
  "language_info": {
   "codemirror_mode": {
    "name": "ipython",
    "version": 3
   },
   "file_extension": ".py",
   "mimetype": "text/x-python",
   "name": "python",
   "nbconvert_exporter": "python",
   "pygments_lexer": "ipython3",
   "version": "3.11.10"
  }
 },
 "nbformat": 4,
 "nbformat_minor": 2
}
